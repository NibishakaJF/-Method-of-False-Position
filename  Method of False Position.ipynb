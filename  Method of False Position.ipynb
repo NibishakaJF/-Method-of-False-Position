{
 "cells": [
  {
   "cell_type": "markdown",
   "id": "6659eb33",
   "metadata": {},
   "source": [
    " #Method of False Position\n",
    " \n",
    " The method is also called linear interpolation method or chord method or regula-falsi method.\n",
    "At the start of all iterations of the method, we require the interval in which the root\n",
    "lies. Let the root of the equation $f(x)=0$,lie in the interval $(x_{k-1},x_k)$ that is $f_{k-1}f_{k}<0$ where $f(x_{k-1})=f_{k-1}$ and $f(x_k=f_k)$.Then $p(x_{k-1}-f_{k-1}),Q(x_k,f_k)$ are points on the curve $f(x)=0$. \n",
    "\n",
    "$$x_{k+1}=\\frac{x_{k-1}f_k-x_kf_{k-1}}{f_k-f_{k-1}}$$"
   ]
  },
  {
   "cell_type": "code",
   "execution_count": 2,
   "id": "0b5a3f8d",
   "metadata": {},
   "outputs": [
    {
     "name": "stdout",
     "output_type": "stream",
     "text": [
      "Enter the polynomial: x**3-3*x+1\n",
      "Enter the left endpoint of the interval: 0\n",
      "Enter the right endpoint of the interval: 1\n",
      "Enter the desired tolerance: 3\n",
      "Iteration  a                    b                    root                \n",
      "\n",
      "Root: 0.5000000000\n",
      "Iterations: 0\n"
     ]
    },
    {
     "data": {
      "image/png": "[encoded data removed]",
      "text/plain": [
       "<Figure size 432x288 with 1 Axes>"
      ]
     },
     "metadata": {
      "needs_background": "light"
     },
     "output_type": "display_data"
    }
   ],
   "source": [
    "import numpy as np\n",
    "import matplotlib.pyplot as plt\n",
    "\n",
    "def false_position(poly, a, b, tol):\n",
    "    \"\"\"\n",
    "    Compute the root of a polynomial using the Method of False Position.\n",
    "    \"\"\"\n",
    "    fa = poly(a)\n",
    "    fb = poly(b)\n",
    "    \n",
    "    # Check if the endpoints enclose a root\n",
    "    if np.sign(fa) == np.sign(fb):\n",
    "        print(\"Error: The endpoints do not enclose a root.\")\n",
    "        return None\n",
    "    \n",
    "    # Initialize the iteration counter\n",
    "    k = 0\n",
    "    \n",
    "    # Initialize the root\n",
    "    root = None\n",
    "    \n",
    "    # Display the table header\n",
    "    print(\"{:<10s} {:<20s} {:<20s} {:<20s}\".format(\"Iteration\", \"a\", \"b\", \"root\"))\n",
    "    \n",
    "    # Iterate until convergence or maximum number of iterations is reached\n",
    "    while k < 100:\n",
    "        # Compute the new estimate for the root\n",
    "        root = (a*fb - b*fa) / (fb - fa)\n",
    "        froot = poly(root)\n",
    "        \n",
    "        # Check if the tolerance has been achieved\n",
    "        if abs(froot) < tol:\n",
    "            break\n",
    "        \n",
    "        # Update the endpoints\n",
    "        if np.sign(froot) == np.sign(fa):\n",
    "            a = root\n",
    "            fa = froot\n",
    "        else:\n",
    "            b = root\n",
    "            fb = froot\n",
    "        \n",
    "        # Increment the iteration counter\n",
    "        k += 1\n",
    "        \n",
    "        # Display the current iteration\n",
    "        print(\"{:<10d} {:<20.10f} {:<20.10f} {:<20.10f}\".format(k, a, b, root))\n",
    "        \n",
    "    # Print the root and the number of iterations\n",
    "    print(\"\\nRoot: {:.10f}\".format(root))\n",
    "    print(\"Iterations: {}\".format(k))\n",
    "    \n",
    "    return root\n",
    "\n",
    "# Accept the polynomial from the user\n",
    "poly_input = input(\"Enter the polynomial: \")\n",
    "poly = lambda x: eval(poly_input)\n",
    "\n",
    "# Accept the left and right endpoints of the interval from the user\n",
    "a = float(input(\"Enter the left endpoint of the interval: \"))\n",
    "b = float(input(\"Enter the right endpoint of the interval: \"))\n",
    "\n",
    "# Accept the desired tolerance from the user\n",
    "tol = float(input(\"Enter the desired tolerance: \"))\n",
    "\n",
    "# Set the number of decimal places to be displayed\n",
    "np.set_printoptions(precision=10)\n",
    "\n",
    "# Compute the root using the Method of False Position\n",
    "root = false_position(poly, a, b, tol)\n",
    "\n",
    "# Plot the function and the root\n",
    "x = np.linspace(a, b, 1000)\n",
    "y = poly(x)\n",
    "fig, ax = plt.subplots()\n",
    "ax.plot(x, y, label=\"Function\")\n",
    "ax.axhline(y=0, color=\"k\", linestyle=\"--\", label=\"x-axis\")\n",
    "ax.scatter(root, poly(root), color=\"r\", label=\"Root\")\n",
    "ax.set_xlabel(\"x\")\n",
    "ax.set_ylabel(\"y\")\n",
    "ax.set_title(\"Function and Root\")\n",
    "ax.legend()\n",
    "plt.show()\n"
   ]
  },
  {
   "cell_type": "markdown",
   "id": "695d1cb5",
   "metadata": {},
   "source": [
    "this code will accept the polynomial  from user in form of $x**3-3*x+1=x^3-3x+1$,also you need to Enter the left endpoint of the interval,Enter the right endpoint of the interval: & the desired tolerance:<br>\n",
    "Remember that the root must be between left and right endpoint.<br>\n",
    "\n",
    "After entering the above requirement ,this program display all step of irriteration  and also the program plot the function with red dot which represent the location of root."
   ]
  },
  {
   "cell_type": "code",
   "execution_count": null,
   "id": "3b331ff5",
   "metadata": {},
   "outputs": [],
   "source": []
  }
 ],
 "metadata": {
  "kernelspec": {
   "display_name": "Python 3 (ipykernel)",
   "language": "python",
   "name": "python3"
  },
  "language_info": {
   "codemirror_mode": {
    "name": "ipython",
    "version": 3
   },
   "file_extension": ".py",
   "mimetype": "text/x-python",
   "name": "python",
   "nbconvert_exporter": "python",
   "pygments_lexer": "ipython3",
   "version": "3.9.12"
  }
 },
 "nbformat": 4,
 "nbformat_minor": 5
}
